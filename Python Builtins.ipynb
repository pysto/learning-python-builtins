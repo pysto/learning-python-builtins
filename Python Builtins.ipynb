{
 "cells": [
  {
   "cell_type": "markdown",
   "metadata": {
    "slideshow": {
     "slide_type": "slide"
    }
   },
   "source": [
    "# An Introduction to Python Built-in Functions \n",
    "\n",
    "This notebook will show some of the most used [Built-in functions](https://docs.python.org/3/library/functions.html) provided in Python. These functions are always available without the need of importing any module for its usage. Let's go!"
   ]
  },
  {
   "cell_type": "code",
   "execution_count": 1,
   "metadata": {
    "slideshow": {
     "slide_type": "subslide"
    }
   },
   "outputs": [],
   "source": [
    "## Sample data\n",
    "\n",
    "name = \"CoP-Python\"\n",
    "day = \"24\"\n",
    "participants = [\"yassin\", \"julio\", \"andres\", \"alex\", \"gerhard\", \"irene\", \"jessica\", \"raul\", \"... sorry if i missed u\"]"
   ]
  },
  {
   "cell_type": "markdown",
   "metadata": {
    "slideshow": {
     "slide_type": "slide"
    }
   },
   "source": [
    "## Hello World!\n",
    "\n",
    "You already now a Built-in function!\n",
    "\n",
    "How can you print the infamous \"Hello World\" text? using the Built-int `print` function!"
   ]
  },
  {
   "cell_type": "code",
   "execution_count": 2,
   "metadata": {
    "slideshow": {
     "slide_type": "fragment"
    }
   },
   "outputs": [
    {
     "name": "stdout",
     "output_type": "stream",
     "text": [
      "Hello World!\n"
     ]
    }
   ],
   "source": [
    "print(\"Hello World!\")"
   ]
  },
  {
   "cell_type": "markdown",
   "metadata": {
    "slideshow": {
     "slide_type": "slide"
    }
   },
   "source": [
    "## Casting\n",
    "\n",
    "Casting functions allow converting between types!"
   ]
  },
  {
   "cell_type": "code",
   "execution_count": 3,
   "metadata": {
    "slideshow": {
     "slide_type": "subslide"
    }
   },
   "outputs": [
    {
     "name": "stdout",
     "output_type": "stream",
     "text": [
      "<class 'str'>\n",
      "<class 'int'>\n"
     ]
    }
   ],
   "source": [
    "## Convert string to integer\n",
    "\n",
    "print(type(day))\n",
    "\n",
    "day_number = int(day)\n",
    "\n",
    "print(type(day_number))"
   ]
  },
  {
   "cell_type": "markdown",
   "metadata": {
    "slideshow": {
     "slide_type": "subslide"
    }
   },
   "source": [
    "There are more casting functions!\n",
    "\n",
    "* `ascii`\n",
    "* `bool`\n",
    "* `chr`\n",
    "* `float`\n",
    "* `hex`\n",
    "* `list`\n",
    "* `oct`\n",
    "* `tuple`"
   ]
  },
  {
   "cell_type": "markdown",
   "metadata": {
    "slideshow": {
     "slide_type": "slide"
    }
   },
   "source": [
    "## Iterators\n",
    "\n",
    "Iterator functions ease the way iterables (lists, dicts, ...) can be processed!"
   ]
  },
  {
   "cell_type": "code",
   "execution_count": 4,
   "metadata": {
    "slideshow": {
     "slide_type": "subslide"
    }
   },
   "outputs": [
    {
     "data": {
      "text/plain": [
       "['yassin',\n",
       " 'julio',\n",
       " 'andres',\n",
       " 'alex',\n",
       " 'gerhard',\n",
       " 'irene',\n",
       " 'jessica',\n",
       " 'raul',\n",
       " '... sorry if i missed u']"
      ]
     },
     "execution_count": 4,
     "metadata": {},
     "output_type": "execute_result"
    }
   ],
   "source": [
    "## Remember our input collection\n",
    "\n",
    "participants"
   ]
  },
  {
   "cell_type": "markdown",
   "metadata": {
    "slideshow": {
     "slide_type": "subslide"
    }
   },
   "source": [
    "### `all`"
   ]
  },
  {
   "cell_type": "code",
   "execution_count": 5,
   "metadata": {
    "slideshow": {
     "slide_type": "fragment"
    }
   },
   "outputs": [
    {
     "data": {
      "text/plain": [
       "True"
      ]
     },
     "execution_count": 5,
     "metadata": {},
     "output_type": "execute_result"
    }
   ],
   "source": [
    "all(participants)"
   ]
  },
  {
   "cell_type": "markdown",
   "metadata": {
    "slideshow": {
     "slide_type": "subslide"
    }
   },
   "source": [
    "__all whattafuck?__\n",
    "\n",
    "The previous statement returned true because all of the participants evaluate to True. As we had a strings list, the function would have only returned _False_ in case there was an empty String"
   ]
  },
  {
   "cell_type": "code",
   "execution_count": 6,
   "metadata": {
    "slideshow": {
     "slide_type": "subslide"
    }
   },
   "outputs": [
    {
     "data": {
      "text/plain": [
       "False"
      ]
     },
     "execution_count": 6,
     "metadata": {},
     "output_type": "execute_result"
    }
   ],
   "source": [
    "all([\"Hey\", \"\"])"
   ]
  },
  {
   "cell_type": "markdown",
   "metadata": {
    "slideshow": {
     "slide_type": "fragment"
    }
   },
   "source": [
    "The boolean evaluation of any Python object is obtained through the invocation of the `bool` casting function!"
   ]
  },
  {
   "cell_type": "code",
   "execution_count": 7,
   "metadata": {
    "slideshow": {
     "slide_type": "subslide"
    }
   },
   "outputs": [
    {
     "data": {
      "text/plain": [
       "False"
      ]
     },
     "execution_count": 7,
     "metadata": {},
     "output_type": "execute_result"
    }
   ],
   "source": [
    "bool(0)"
   ]
  },
  {
   "cell_type": "code",
   "execution_count": 8,
   "metadata": {
    "slideshow": {
     "slide_type": "subslide"
    }
   },
   "outputs": [
    {
     "data": {
      "text/plain": [
       "True"
      ]
     },
     "execution_count": 8,
     "metadata": {},
     "output_type": "execute_result"
    }
   ],
   "source": [
    "bool(1)"
   ]
  },
  {
   "cell_type": "code",
   "execution_count": 9,
   "metadata": {
    "slideshow": {
     "slide_type": "subslide"
    }
   },
   "outputs": [
    {
     "data": {
      "text/plain": [
       "False"
      ]
     },
     "execution_count": 9,
     "metadata": {},
     "output_type": "execute_result"
    }
   ],
   "source": [
    "bool([])"
   ]
  },
  {
   "cell_type": "code",
   "execution_count": 10,
   "metadata": {
    "slideshow": {
     "slide_type": "subslide"
    }
   },
   "outputs": [
    {
     "data": {
      "text/plain": [
       "True"
      ]
     },
     "execution_count": 10,
     "metadata": {},
     "output_type": "execute_result"
    }
   ],
   "source": [
    "bool([1,2,3,4])"
   ]
  },
  {
   "cell_type": "code",
   "execution_count": 11,
   "metadata": {
    "slideshow": {
     "slide_type": "subslide"
    }
   },
   "outputs": [
    {
     "data": {
      "text/plain": [
       "False"
      ]
     },
     "execution_count": 11,
     "metadata": {},
     "output_type": "execute_result"
    }
   ],
   "source": [
    "bool({})"
   ]
  },
  {
   "cell_type": "markdown",
   "metadata": {
    "slideshow": {
     "slide_type": "fragment"
    }
   },
   "source": [
    "For any class, you can defined if boolean evaluation through the declaration of the `__bool__` function."
   ]
  },
  {
   "cell_type": "markdown",
   "metadata": {
    "slideshow": {
     "slide_type": "subslide"
    }
   },
   "source": [
    "### `any` function\n",
    "\n",
    "Similar to `all` function, `any` will return True if any of the arguments evaluates to True"
   ]
  },
  {
   "cell_type": "code",
   "execution_count": 12,
   "metadata": {
    "slideshow": {
     "slide_type": "subslide"
    }
   },
   "outputs": [
    {
     "data": {
      "text/plain": [
       "True"
      ]
     },
     "execution_count": 12,
     "metadata": {},
     "output_type": "execute_result"
    }
   ],
   "source": [
    "any(participants)"
   ]
  },
  {
   "cell_type": "code",
   "execution_count": 13,
   "metadata": {
    "slideshow": {
     "slide_type": "subslide"
    }
   },
   "outputs": [
    {
     "data": {
      "text/plain": [
       "True"
      ]
     },
     "execution_count": 13,
     "metadata": {},
     "output_type": "execute_result"
    }
   ],
   "source": [
    "any([\"Hey\", \"\"])"
   ]
  },
  {
   "cell_type": "code",
   "execution_count": 14,
   "metadata": {
    "slideshow": {
     "slide_type": "subslide"
    }
   },
   "outputs": [
    {
     "data": {
      "text/plain": [
       "False"
      ]
     },
     "execution_count": 14,
     "metadata": {},
     "output_type": "execute_result"
    }
   ],
   "source": [
    "any([\"\", 0, []])"
   ]
  },
  {
   "cell_type": "markdown",
   "metadata": {
    "slideshow": {
     "slide_type": "fragment"
    }
   },
   "source": [
    "That because all of the elements in the previous list evaluate to `False`"
   ]
  },
  {
   "cell_type": "markdown",
   "metadata": {
    "slideshow": {
     "slide_type": "subslide"
    }
   },
   "source": [
    "### `map` "
   ]
  },
  {
   "cell_type": "code",
   "execution_count": 15,
   "metadata": {
    "slideshow": {
     "slide_type": "fragment"
    }
   },
   "outputs": [
    {
     "data": {
      "text/plain": [
       "<map at 0x7f31d6fa5278>"
      ]
     },
     "execution_count": 15,
     "metadata": {},
     "output_type": "execute_result"
    }
   ],
   "source": [
    "map(str.upper, participants)"
   ]
  },
  {
   "cell_type": "markdown",
   "metadata": {
    "slideshow": {
     "slide_type": "subslide"
    }
   },
   "source": [
    "__Why doesn't it return a list?__\n",
    "\n",
    "Iterator functions return a generator, which does not return any value unless it is required. Generators make use of another builtin function called `next` for obtaining the next value!\n",
    "\n",
    "However, you can use the list casting function for obtaining a plain list!"
   ]
  },
  {
   "cell_type": "code",
   "execution_count": 16,
   "metadata": {
    "slideshow": {
     "slide_type": "subslide"
    }
   },
   "outputs": [
    {
     "data": {
      "text/plain": [
       "['YASSIN',\n",
       " 'JULIO',\n",
       " 'ANDRES',\n",
       " 'ALEX',\n",
       " 'GERHARD',\n",
       " 'IRENE',\n",
       " 'JESSICA',\n",
       " 'RAUL',\n",
       " '... SORRY IF I MISSED U']"
      ]
     },
     "execution_count": 16,
     "metadata": {},
     "output_type": "execute_result"
    }
   ],
   "source": [
    "list(map(str.upper, participants))"
   ]
  },
  {
   "cell_type": "markdown",
   "metadata": {
    "slideshow": {
     "slide_type": "subslide"
    }
   },
   "source": [
    "### `filter`"
   ]
  },
  {
   "cell_type": "code",
   "execution_count": 17,
   "metadata": {
    "slideshow": {
     "slide_type": "fragment"
    }
   },
   "outputs": [
    {
     "data": {
      "text/plain": [
       "['andres', 'alex']"
      ]
     },
     "execution_count": 17,
     "metadata": {},
     "output_type": "execute_result"
    }
   ],
   "source": [
    "list(filter(lambda p : p.startswith(\"a\"), participants))"
   ]
  },
  {
   "cell_type": "markdown",
   "metadata": {
    "slideshow": {
     "slide_type": "subslide"
    }
   },
   "source": [
    "### `enumerate`"
   ]
  },
  {
   "cell_type": "code",
   "execution_count": 18,
   "metadata": {
    "slideshow": {
     "slide_type": "fragment"
    }
   },
   "outputs": [
    {
     "data": {
      "text/plain": [
       "[(0, 'yassin'),\n",
       " (1, 'julio'),\n",
       " (2, 'andres'),\n",
       " (3, 'alex'),\n",
       " (4, 'gerhard'),\n",
       " (5, 'irene'),\n",
       " (6, 'jessica'),\n",
       " (7, 'raul'),\n",
       " (8, '... sorry if i missed u')]"
      ]
     },
     "execution_count": 18,
     "metadata": {},
     "output_type": "execute_result"
    }
   ],
   "source": [
    "list(enumerate(participants))"
   ]
  },
  {
   "cell_type": "markdown",
   "metadata": {
    "slideshow": {
     "slide_type": "subslide"
    }
   },
   "source": [
    "### `zip`"
   ]
  },
  {
   "cell_type": "code",
   "execution_count": 19,
   "metadata": {
    "slideshow": {
     "slide_type": "fragment"
    }
   },
   "outputs": [
    {
     "data": {
      "text/plain": [
       "[('yassin', 0),\n",
       " ('julio', 1),\n",
       " ('andres', 2),\n",
       " ('alex', 3),\n",
       " ('gerhard', 4),\n",
       " ('irene', 5),\n",
       " ('jessica', 6),\n",
       " ('raul', 7),\n",
       " ('... sorry if i missed u', 8)]"
      ]
     },
     "execution_count": 19,
     "metadata": {},
     "output_type": "execute_result"
    }
   ],
   "source": [
    "list(zip(participants, range(len(participants))))"
   ]
  },
  {
   "cell_type": "markdown",
   "metadata": {
    "slideshow": {
     "slide_type": "subslide"
    }
   },
   "source": [
    "### More on Iterator functions!\n",
    "\n",
    "* sorted\n",
    "* reversed\n",
    "* max\n",
    "* min"
   ]
  },
  {
   "cell_type": "code",
   "execution_count": 20,
   "metadata": {
    "slideshow": {
     "slide_type": "fragment"
    }
   },
   "outputs": [
    {
     "data": {
      "text/plain": [
       "['alex',\n",
       " 'raul',\n",
       " 'julio',\n",
       " 'irene',\n",
       " 'yassin',\n",
       " 'andres',\n",
       " 'gerhard',\n",
       " 'jessica',\n",
       " '... sorry if i missed u']"
      ]
     },
     "execution_count": 20,
     "metadata": {},
     "output_type": "execute_result"
    }
   ],
   "source": [
    "## Sort a strings list by their length\n",
    "\n",
    "sorted(participants, key=len)"
   ]
  },
  {
   "cell_type": "markdown",
   "metadata": {
    "slideshow": {
     "slide_type": "slide"
    }
   },
   "source": [
    "## Getting help / Inspecting modules\n",
    "\n",
    "The following functions can help you obtaining additional information about objects, modules and classes"
   ]
  },
  {
   "cell_type": "markdown",
   "metadata": {
    "slideshow": {
     "slide_type": "subslide"
    }
   },
   "source": [
    "### `dir` \n",
    "\n",
    "List the members defined for a given class"
   ]
  },
  {
   "cell_type": "code",
   "execution_count": 21,
   "metadata": {
    "slideshow": {
     "slide_type": "fragment"
    }
   },
   "outputs": [
    {
     "data": {
      "text/plain": [
       "['__add__',\n",
       " '__class__',\n",
       " '__contains__',\n",
       " '__delattr__',\n",
       " '__dir__',\n",
       " '__doc__',\n",
       " '__eq__',\n",
       " '__format__',\n",
       " '__ge__',\n",
       " '__getattribute__',\n",
       " '__getitem__',\n",
       " '__getnewargs__',\n",
       " '__gt__',\n",
       " '__hash__',\n",
       " '__init__',\n",
       " '__init_subclass__',\n",
       " '__iter__',\n",
       " '__le__',\n",
       " '__len__',\n",
       " '__lt__',\n",
       " '__mod__',\n",
       " '__mul__',\n",
       " '__ne__',\n",
       " '__new__',\n",
       " '__reduce__',\n",
       " '__reduce_ex__',\n",
       " '__repr__',\n",
       " '__rmod__',\n",
       " '__rmul__',\n",
       " '__setattr__',\n",
       " '__sizeof__',\n",
       " '__str__',\n",
       " '__subclasshook__',\n",
       " 'capitalize',\n",
       " 'casefold',\n",
       " 'center',\n",
       " 'count',\n",
       " 'encode',\n",
       " 'endswith',\n",
       " 'expandtabs',\n",
       " 'find',\n",
       " 'format',\n",
       " 'format_map',\n",
       " 'index',\n",
       " 'isalnum',\n",
       " 'isalpha',\n",
       " 'isdecimal',\n",
       " 'isdigit',\n",
       " 'isidentifier',\n",
       " 'islower',\n",
       " 'isnumeric',\n",
       " 'isprintable',\n",
       " 'isspace',\n",
       " 'istitle',\n",
       " 'isupper',\n",
       " 'join',\n",
       " 'ljust',\n",
       " 'lower',\n",
       " 'lstrip',\n",
       " 'maketrans',\n",
       " 'partition',\n",
       " 'replace',\n",
       " 'rfind',\n",
       " 'rindex',\n",
       " 'rjust',\n",
       " 'rpartition',\n",
       " 'rsplit',\n",
       " 'rstrip',\n",
       " 'split',\n",
       " 'splitlines',\n",
       " 'startswith',\n",
       " 'strip',\n",
       " 'swapcase',\n",
       " 'title',\n",
       " 'translate',\n",
       " 'upper',\n",
       " 'zfill']"
      ]
     },
     "execution_count": 21,
     "metadata": {},
     "output_type": "execute_result"
    }
   ],
   "source": [
    "# members starting with __ are private\n",
    "\n",
    "dir(\"a\")"
   ]
  },
  {
   "cell_type": "code",
   "execution_count": 22,
   "metadata": {
    "slideshow": {
     "slide_type": "subslide"
    }
   },
   "outputs": [
    {
     "data": {
      "text/plain": [
       "True"
      ]
     },
     "execution_count": 22,
     "metadata": {},
     "output_type": "execute_result"
    }
   ],
   "source": [
    "str.islower(\"hello\") == \"hello\".islower()"
   ]
  },
  {
   "cell_type": "markdown",
   "metadata": {
    "slideshow": {
     "slide_type": "subslide"
    }
   },
   "source": [
    "### `repr` \n",
    "\n",
    "Obtain a String representation of a given object"
   ]
  },
  {
   "cell_type": "code",
   "execution_count": 23,
   "metadata": {
    "slideshow": {
     "slide_type": "fragment"
    }
   },
   "outputs": [
    {
     "data": {
      "text/plain": [
       "\"['yassin', 'julio', 'andres', 'alex', 'gerhard', 'irene', 'jessica', 'raul', '... sorry if i missed u']\""
      ]
     },
     "execution_count": 23,
     "metadata": {},
     "output_type": "execute_result"
    }
   ],
   "source": [
    "repr(participants)"
   ]
  },
  {
   "cell_type": "markdown",
   "metadata": {
    "slideshow": {
     "slide_type": "subslide"
    }
   },
   "source": [
    "### `help` function\n",
    "\n",
    "Gets help about a given function/class/module. It returns the pydoc for the target item"
   ]
  },
  {
   "cell_type": "code",
   "execution_count": 24,
   "metadata": {
    "slideshow": {
     "slide_type": "fragment"
    }
   },
   "outputs": [
    {
     "name": "stdout",
     "output_type": "stream",
     "text": [
      "Help on method_descriptor:\n",
      "\n",
      "upper(...)\n",
      "    S.upper() -> str\n",
      "    \n",
      "    Return a copy of S converted to uppercase.\n",
      "\n"
     ]
    }
   ],
   "source": [
    "help(str.upper)"
   ]
  },
  {
   "cell_type": "code",
   "execution_count": 25,
   "metadata": {
    "slideshow": {
     "slide_type": "subslide"
    }
   },
   "outputs": [
    {
     "name": "stdout",
     "output_type": "stream",
     "text": [
      "Help on class str in module builtins:\n",
      "\n",
      "class str(object)\n",
      " |  str(object='') -> str\n",
      " |  str(bytes_or_buffer[, encoding[, errors]]) -> str\n",
      " |  \n",
      " |  Create a new string object from the given object. If encoding or\n",
      " |  errors is specified, then the object must expose a data buffer\n",
      " |  that will be decoded using the given encoding and error handler.\n",
      " |  Otherwise, returns the result of object.__str__() (if defined)\n",
      " |  or repr(object).\n",
      " |  encoding defaults to sys.getdefaultencoding().\n",
      " |  errors defaults to 'strict'.\n",
      " |  \n",
      " |  Methods defined here:\n",
      " |  \n",
      " |  __add__(self, value, /)\n",
      " |      Return self+value.\n",
      " |  \n",
      " |  __contains__(self, key, /)\n",
      " |      Return key in self.\n",
      " |  \n",
      " |  __eq__(self, value, /)\n",
      " |      Return self==value.\n",
      " |  \n",
      " |  __format__(...)\n",
      " |      S.__format__(format_spec) -> str\n",
      " |      \n",
      " |      Return a formatted version of S as described by format_spec.\n",
      " |  \n",
      " |  __ge__(self, value, /)\n",
      " |      Return self>=value.\n",
      " |  \n",
      " |  __getattribute__(self, name, /)\n",
      " |      Return getattr(self, name).\n",
      " |  \n",
      " |  __getitem__(self, key, /)\n",
      " |      Return self[key].\n",
      " |  \n",
      " |  __getnewargs__(...)\n",
      " |  \n",
      " |  __gt__(self, value, /)\n",
      " |      Return self>value.\n",
      " |  \n",
      " |  __hash__(self, /)\n",
      " |      Return hash(self).\n",
      " |  \n",
      " |  __iter__(self, /)\n",
      " |      Implement iter(self).\n",
      " |  \n",
      " |  __le__(self, value, /)\n",
      " |      Return self<=value.\n",
      " |  \n",
      " |  __len__(self, /)\n",
      " |      Return len(self).\n",
      " |  \n",
      " |  __lt__(self, value, /)\n",
      " |      Return self<value.\n",
      " |  \n",
      " |  __mod__(self, value, /)\n",
      " |      Return self%value.\n",
      " |  \n",
      " |  __mul__(self, value, /)\n",
      " |      Return self*value.\n",
      " |  \n",
      " |  __ne__(self, value, /)\n",
      " |      Return self!=value.\n",
      " |  \n",
      " |  __new__(*args, **kwargs) from builtins.type\n",
      " |      Create and return a new object.  See help(type) for accurate signature.\n",
      " |  \n",
      " |  __repr__(self, /)\n",
      " |      Return repr(self).\n",
      " |  \n",
      " |  __rmod__(self, value, /)\n",
      " |      Return value%self.\n",
      " |  \n",
      " |  __rmul__(self, value, /)\n",
      " |      Return value*self.\n",
      " |  \n",
      " |  __sizeof__(...)\n",
      " |      S.__sizeof__() -> size of S in memory, in bytes\n",
      " |  \n",
      " |  __str__(self, /)\n",
      " |      Return str(self).\n",
      " |  \n",
      " |  capitalize(...)\n",
      " |      S.capitalize() -> str\n",
      " |      \n",
      " |      Return a capitalized version of S, i.e. make the first character\n",
      " |      have upper case and the rest lower case.\n",
      " |  \n",
      " |  casefold(...)\n",
      " |      S.casefold() -> str\n",
      " |      \n",
      " |      Return a version of S suitable for caseless comparisons.\n",
      " |  \n",
      " |  center(...)\n",
      " |      S.center(width[, fillchar]) -> str\n",
      " |      \n",
      " |      Return S centered in a string of length width. Padding is\n",
      " |      done using the specified fill character (default is a space)\n",
      " |  \n",
      " |  count(...)\n",
      " |      S.count(sub[, start[, end]]) -> int\n",
      " |      \n",
      " |      Return the number of non-overlapping occurrences of substring sub in\n",
      " |      string S[start:end].  Optional arguments start and end are\n",
      " |      interpreted as in slice notation.\n",
      " |  \n",
      " |  encode(...)\n",
      " |      S.encode(encoding='utf-8', errors='strict') -> bytes\n",
      " |      \n",
      " |      Encode S using the codec registered for encoding. Default encoding\n",
      " |      is 'utf-8'. errors may be given to set a different error\n",
      " |      handling scheme. Default is 'strict' meaning that encoding errors raise\n",
      " |      a UnicodeEncodeError. Other possible values are 'ignore', 'replace' and\n",
      " |      'xmlcharrefreplace' as well as any other name registered with\n",
      " |      codecs.register_error that can handle UnicodeEncodeErrors.\n",
      " |  \n",
      " |  endswith(...)\n",
      " |      S.endswith(suffix[, start[, end]]) -> bool\n",
      " |      \n",
      " |      Return True if S ends with the specified suffix, False otherwise.\n",
      " |      With optional start, test S beginning at that position.\n",
      " |      With optional end, stop comparing S at that position.\n",
      " |      suffix can also be a tuple of strings to try.\n",
      " |  \n",
      " |  expandtabs(...)\n",
      " |      S.expandtabs(tabsize=8) -> str\n",
      " |      \n",
      " |      Return a copy of S where all tab characters are expanded using spaces.\n",
      " |      If tabsize is not given, a tab size of 8 characters is assumed.\n",
      " |  \n",
      " |  find(...)\n",
      " |      S.find(sub[, start[, end]]) -> int\n",
      " |      \n",
      " |      Return the lowest index in S where substring sub is found,\n",
      " |      such that sub is contained within S[start:end].  Optional\n",
      " |      arguments start and end are interpreted as in slice notation.\n",
      " |      \n",
      " |      Return -1 on failure.\n",
      " |  \n",
      " |  format(...)\n",
      " |      S.format(*args, **kwargs) -> str\n",
      " |      \n",
      " |      Return a formatted version of S, using substitutions from args and kwargs.\n",
      " |      The substitutions are identified by braces ('{' and '}').\n",
      " |  \n",
      " |  format_map(...)\n",
      " |      S.format_map(mapping) -> str\n",
      " |      \n",
      " |      Return a formatted version of S, using substitutions from mapping.\n",
      " |      The substitutions are identified by braces ('{' and '}').\n",
      " |  \n",
      " |  index(...)\n",
      " |      S.index(sub[, start[, end]]) -> int\n",
      " |      \n",
      " |      Return the lowest index in S where substring sub is found, \n",
      " |      such that sub is contained within S[start:end].  Optional\n",
      " |      arguments start and end are interpreted as in slice notation.\n",
      " |      \n",
      " |      Raises ValueError when the substring is not found.\n",
      " |  \n",
      " |  isalnum(...)\n",
      " |      S.isalnum() -> bool\n",
      " |      \n",
      " |      Return True if all characters in S are alphanumeric\n",
      " |      and there is at least one character in S, False otherwise.\n",
      " |  \n",
      " |  isalpha(...)\n",
      " |      S.isalpha() -> bool\n",
      " |      \n",
      " |      Return True if all characters in S are alphabetic\n",
      " |      and there is at least one character in S, False otherwise.\n",
      " |  \n",
      " |  isdecimal(...)\n",
      " |      S.isdecimal() -> bool\n",
      " |      \n",
      " |      Return True if there are only decimal characters in S,\n",
      " |      False otherwise.\n",
      " |  \n",
      " |  isdigit(...)\n",
      " |      S.isdigit() -> bool\n",
      " |      \n",
      " |      Return True if all characters in S are digits\n",
      " |      and there is at least one character in S, False otherwise.\n",
      " |  \n",
      " |  isidentifier(...)\n",
      " |      S.isidentifier() -> bool\n",
      " |      \n",
      " |      Return True if S is a valid identifier according\n",
      " |      to the language definition.\n",
      " |      \n",
      " |      Use keyword.iskeyword() to test for reserved identifiers\n",
      " |      such as \"def\" and \"class\".\n",
      " |  \n",
      " |  islower(...)\n",
      " |      S.islower() -> bool\n",
      " |      \n",
      " |      Return True if all cased characters in S are lowercase and there is\n",
      " |      at least one cased character in S, False otherwise.\n",
      " |  \n",
      " |  isnumeric(...)\n",
      " |      S.isnumeric() -> bool\n",
      " |      \n",
      " |      Return True if there are only numeric characters in S,\n",
      " |      False otherwise.\n",
      " |  \n",
      " |  isprintable(...)\n",
      " |      S.isprintable() -> bool\n",
      " |      \n",
      " |      Return True if all characters in S are considered\n",
      " |      printable in repr() or S is empty, False otherwise.\n",
      " |  \n",
      " |  isspace(...)\n",
      " |      S.isspace() -> bool\n",
      " |      \n",
      " |      Return True if all characters in S are whitespace\n",
      " |      and there is at least one character in S, False otherwise.\n",
      " |  \n",
      " |  istitle(...)\n",
      " |      S.istitle() -> bool\n",
      " |      \n",
      " |      Return True if S is a titlecased string and there is at least one\n",
      " |      character in S, i.e. upper- and titlecase characters may only\n",
      " |      follow uncased characters and lowercase characters only cased ones.\n",
      " |      Return False otherwise.\n",
      " |  \n",
      " |  isupper(...)\n",
      " |      S.isupper() -> bool\n",
      " |      \n",
      " |      Return True if all cased characters in S are uppercase and there is\n",
      " |      at least one cased character in S, False otherwise.\n",
      " |  \n",
      " |  join(...)\n",
      " |      S.join(iterable) -> str\n",
      " |      \n",
      " |      Return a string which is the concatenation of the strings in the\n",
      " |      iterable.  The separator between elements is S.\n",
      " |  \n",
      " |  ljust(...)\n",
      " |      S.ljust(width[, fillchar]) -> str\n",
      " |      \n",
      " |      Return S left-justified in a Unicode string of length width. Padding is\n",
      " |      done using the specified fill character (default is a space).\n",
      " |  \n",
      " |  lower(...)\n",
      " |      S.lower() -> str\n",
      " |      \n",
      " |      Return a copy of the string S converted to lowercase.\n",
      " |  \n",
      " |  lstrip(...)\n",
      " |      S.lstrip([chars]) -> str\n",
      " |      \n",
      " |      Return a copy of the string S with leading whitespace removed.\n",
      " |      If chars is given and not None, remove characters in chars instead.\n",
      " |  \n",
      " |  partition(...)\n",
      " |      S.partition(sep) -> (head, sep, tail)\n",
      " |      \n",
      " |      Search for the separator sep in S, and return the part before it,\n",
      " |      the separator itself, and the part after it.  If the separator is not\n",
      " |      found, return S and two empty strings.\n",
      " |  \n",
      " |  replace(...)\n",
      " |      S.replace(old, new[, count]) -> str\n",
      " |      \n",
      " |      Return a copy of S with all occurrences of substring\n",
      " |      old replaced by new.  If the optional argument count is\n",
      " |      given, only the first count occurrences are replaced.\n",
      " |  \n",
      " |  rfind(...)\n",
      " |      S.rfind(sub[, start[, end]]) -> int\n",
      " |      \n",
      " |      Return the highest index in S where substring sub is found,\n",
      " |      such that sub is contained within S[start:end].  Optional\n",
      " |      arguments start and end are interpreted as in slice notation.\n",
      " |      \n",
      " |      Return -1 on failure.\n",
      " |  \n",
      " |  rindex(...)\n",
      " |      S.rindex(sub[, start[, end]]) -> int\n",
      " |      \n",
      " |      Return the highest index in S where substring sub is found,\n",
      " |      such that sub is contained within S[start:end].  Optional\n",
      " |      arguments start and end are interpreted as in slice notation.\n",
      " |      \n",
      " |      Raises ValueError when the substring is not found.\n",
      " |  \n",
      " |  rjust(...)\n",
      " |      S.rjust(width[, fillchar]) -> str\n",
      " |      \n",
      " |      Return S right-justified in a string of length width. Padding is\n",
      " |      done using the specified fill character (default is a space).\n",
      " |  \n",
      " |  rpartition(...)\n",
      " |      S.rpartition(sep) -> (head, sep, tail)\n",
      " |      \n",
      " |      Search for the separator sep in S, starting at the end of S, and return\n",
      " |      the part before it, the separator itself, and the part after it.  If the\n",
      " |      separator is not found, return two empty strings and S.\n",
      " |  \n",
      " |  rsplit(...)\n",
      " |      S.rsplit(sep=None, maxsplit=-1) -> list of strings\n",
      " |      \n",
      " |      Return a list of the words in S, using sep as the\n",
      " |      delimiter string, starting at the end of the string and\n",
      " |      working to the front.  If maxsplit is given, at most maxsplit\n",
      " |      splits are done. If sep is not specified, any whitespace string\n",
      " |      is a separator.\n",
      " |  \n",
      " |  rstrip(...)\n",
      " |      S.rstrip([chars]) -> str\n",
      " |      \n",
      " |      Return a copy of the string S with trailing whitespace removed.\n",
      " |      If chars is given and not None, remove characters in chars instead.\n",
      " |  \n",
      " |  split(...)\n",
      " |      S.split(sep=None, maxsplit=-1) -> list of strings\n",
      " |      \n",
      " |      Return a list of the words in S, using sep as the\n",
      " |      delimiter string.  If maxsplit is given, at most maxsplit\n",
      " |      splits are done. If sep is not specified or is None, any\n",
      " |      whitespace string is a separator and empty strings are\n",
      " |      removed from the result.\n",
      " |  \n",
      " |  splitlines(...)\n",
      " |      S.splitlines([keepends]) -> list of strings\n",
      " |      \n",
      " |      Return a list of the lines in S, breaking at line boundaries.\n",
      " |      Line breaks are not included in the resulting list unless keepends\n",
      " |      is given and true.\n",
      " |  \n",
      " |  startswith(...)\n",
      " |      S.startswith(prefix[, start[, end]]) -> bool\n",
      " |      \n",
      " |      Return True if S starts with the specified prefix, False otherwise.\n",
      " |      With optional start, test S beginning at that position.\n",
      " |      With optional end, stop comparing S at that position.\n",
      " |      prefix can also be a tuple of strings to try.\n",
      " |  \n",
      " |  strip(...)\n",
      " |      S.strip([chars]) -> str\n",
      " |      \n",
      " |      Return a copy of the string S with leading and trailing\n",
      " |      whitespace removed.\n",
      " |      If chars is given and not None, remove characters in chars instead.\n",
      " |  \n",
      " |  swapcase(...)\n",
      " |      S.swapcase() -> str\n",
      " |      \n",
      " |      Return a copy of S with uppercase characters converted to lowercase\n",
      " |      and vice versa.\n",
      " |  \n",
      " |  title(...)\n",
      " |      S.title() -> str\n",
      " |      \n",
      " |      Return a titlecased version of S, i.e. words start with title case\n",
      " |      characters, all remaining cased characters have lower case.\n",
      " |  \n",
      " |  translate(...)\n",
      " |      S.translate(table) -> str\n",
      " |      \n",
      " |      Return a copy of the string S in which each character has been mapped\n",
      " |      through the given translation table. The table must implement\n",
      " |      lookup/indexing via __getitem__, for instance a dictionary or list,\n",
      " |      mapping Unicode ordinals to Unicode ordinals, strings, or None. If\n",
      " |      this operation raises LookupError, the character is left untouched.\n",
      " |      Characters mapped to None are deleted.\n",
      " |  \n",
      " |  upper(...)\n",
      " |      S.upper() -> str\n",
      " |      \n",
      " |      Return a copy of S converted to uppercase.\n",
      " |  \n",
      " |  zfill(...)\n",
      " |      S.zfill(width) -> str\n",
      " |      \n",
      " |      Pad a numeric string S with zeros on the left, to fill a field\n",
      " |      of the specified width. The string S is never truncated.\n",
      " |  \n",
      " |  ----------------------------------------------------------------------\n",
      " |  Static methods defined here:\n",
      " |  \n",
      " |  maketrans(x, y=None, z=None, /)\n",
      " |      Return a translation table usable for str.translate().\n",
      " |      \n",
      " |      If there is only one argument, it must be a dictionary mapping Unicode\n",
      " |      ordinals (integers) or characters to Unicode ordinals, strings or None.\n",
      " |      Character keys will be then converted to ordinals.\n",
      " |      If there are two arguments, they must be strings of equal length, and\n",
      " |      in the resulting dictionary, each character in x will be mapped to the\n",
      " |      character at the same position in y. If there is a third argument, it\n",
      " |      must be a string, whose characters will be mapped to None in the result.\n",
      "\n"
     ]
    }
   ],
   "source": [
    "help(str)"
   ]
  },
  {
   "cell_type": "markdown",
   "metadata": {
    "slideshow": {
     "slide_type": "fragment"
    }
   },
   "source": [
    "It works only with modules/classes/functions. `help` function does not work with objects!"
   ]
  },
  {
   "cell_type": "code",
   "execution_count": 26,
   "metadata": {
    "slideshow": {
     "slide_type": "subslide"
    }
   },
   "outputs": [
    {
     "name": "stdout",
     "output_type": "stream",
     "text": [
      "No Python documentation found for 'a'.\n",
      "Use help() to get the interactive help utility.\n",
      "Use help(str) for help on the str class.\n",
      "\n"
     ]
    }
   ],
   "source": [
    "help(\"a\")"
   ]
  },
  {
   "cell_type": "markdown",
   "metadata": {
    "slideshow": {
     "slide_type": "subslide"
    }
   },
   "source": [
    "### `type`\n",
    "\n",
    "On a general basis, type allows obtaining the type of a given object."
   ]
  },
  {
   "cell_type": "code",
   "execution_count": 27,
   "metadata": {
    "slideshow": {
     "slide_type": "fragment"
    }
   },
   "outputs": [
    {
     "data": {
      "text/plain": [
       "str"
      ]
     },
     "execution_count": 27,
     "metadata": {},
     "output_type": "execute_result"
    }
   ],
   "source": [
    "type(\"a\")"
   ]
  },
  {
   "cell_type": "markdown",
   "metadata": {
    "slideshow": {
     "slide_type": "fragment"
    }
   },
   "source": [
    "... but, what type of information does type return?"
   ]
  },
  {
   "cell_type": "code",
   "execution_count": 28,
   "metadata": {
    "slideshow": {
     "slide_type": "subslide"
    }
   },
   "outputs": [
    {
     "data": {
      "text/plain": [
       "type"
      ]
     },
     "execution_count": 28,
     "metadata": {},
     "output_type": "execute_result"
    }
   ],
   "source": [
    "type(type(str))"
   ]
  },
  {
   "cell_type": "markdown",
   "metadata": {
    "slideshow": {
     "slide_type": "fragment"
    }
   },
   "source": [
    "`type` function allows defining new classes that extends other in a single line of code!!!!!"
   ]
  },
  {
   "cell_type": "code",
   "execution_count": 29,
   "metadata": {
    "slideshow": {
     "slide_type": "subslide"
    }
   },
   "outputs": [
    {
     "data": {
      "text/plain": [
       "'Hello World'"
      ]
     },
     "execution_count": 29,
     "metadata": {},
     "output_type": "execute_result"
    }
   ],
   "source": [
    "my_new_string = type(\"MyNewString\", (str,), {\"hello\": lambda x: \"Hello %s\" % x})\n",
    "\n",
    "fancy_string = my_new_string(\"World\")\n",
    "\n",
    "fancy_string.hello()"
   ]
  },
  {
   "cell_type": "markdown",
   "metadata": {
    "slideshow": {
     "slide_type": "subslide"
    }
   },
   "source": [
    "### `globals` and `locals`\n",
    "\n",
    "These functions allows to inspect what's available globally and inside the currect execution stack frame."
   ]
  },
  {
   "cell_type": "code",
   "execution_count": 30,
   "metadata": {
    "slideshow": {
     "slide_type": "subslide"
    }
   },
   "outputs": [
    {
     "data": {
      "text/plain": [
       "{'__name__': '__main__',\n",
       " '__doc__': 'Automatically created module for IPython interactive environment',\n",
       " '__package__': None,\n",
       " '__loader__': None,\n",
       " '__spec__': None,\n",
       " '__builtin__': <module 'builtins' (built-in)>,\n",
       " '__builtins__': <module 'builtins' (built-in)>,\n",
       " '_ih': ['',\n",
       "  '## Sample data\\n\\nname = \"CoP-Python\"\\nday = \"24\"\\nparticipants = [\"yassin\", \"julio\", \"andres\", \"alex\", \"gerhard\", \"irene\", \"jessica\", \"raul\", \"... sorry if i missed u\"]',\n",
       "  'print(\"Hello World!\")',\n",
       "  '## Convert string to integer\\n\\nprint(type(day))\\n\\nday_number = int(day)\\n\\nprint(type(day_number))',\n",
       "  '## Remember our input collection\\n\\nparticipants',\n",
       "  'all(participants)',\n",
       "  'all([\"Hey\", \"\"])',\n",
       "  'bool(0)',\n",
       "  'bool(1)',\n",
       "  'bool([])',\n",
       "  'bool([1,2,3,4])',\n",
       "  'bool({})',\n",
       "  'any(participants)',\n",
       "  'any([\"Hey\", \"\"])',\n",
       "  'any([\"\", 0, []])',\n",
       "  'map(str.upper, participants)',\n",
       "  'list(map(str.upper, participants))',\n",
       "  'list(filter(lambda p : p.startswith(\"a\"), participants))',\n",
       "  'list(enumerate(participants))',\n",
       "  'list(zip(participants, range(len(participants))))',\n",
       "  '## Sort a strings list by their length\\n\\nsorted(participants, key=len)',\n",
       "  '# members starting with __ are private\\n\\ndir(\"a\")',\n",
       "  'str.islower(\"hello\") == \"hello\".islower()',\n",
       "  'repr(participants)',\n",
       "  'help(str.upper)',\n",
       "  'help(str)',\n",
       "  'help(\"a\")',\n",
       "  'type(\"a\")',\n",
       "  'type(type(str))',\n",
       "  'my_new_string = type(\"MyNewString\", (str,), {\"hello\": lambda x: \"Hello %s\" % x})\\n\\nfancy_string = my_new_string(\"World\")\\n\\nfancy_string.hello()',\n",
       "  'globals()'],\n",
       " '_oh': {4: ['yassin',\n",
       "   'julio',\n",
       "   'andres',\n",
       "   'alex',\n",
       "   'gerhard',\n",
       "   'irene',\n",
       "   'jessica',\n",
       "   'raul',\n",
       "   '... sorry if i missed u'],\n",
       "  5: True,\n",
       "  6: False,\n",
       "  7: False,\n",
       "  8: True,\n",
       "  9: False,\n",
       "  10: True,\n",
       "  11: False,\n",
       "  12: True,\n",
       "  13: True,\n",
       "  14: False,\n",
       "  15: <map at 0x7f31d6fa5278>,\n",
       "  16: ['YASSIN',\n",
       "   'JULIO',\n",
       "   'ANDRES',\n",
       "   'ALEX',\n",
       "   'GERHARD',\n",
       "   'IRENE',\n",
       "   'JESSICA',\n",
       "   'RAUL',\n",
       "   '... SORRY IF I MISSED U'],\n",
       "  17: ['andres', 'alex'],\n",
       "  18: [(0, 'yassin'),\n",
       "   (1, 'julio'),\n",
       "   (2, 'andres'),\n",
       "   (3, 'alex'),\n",
       "   (4, 'gerhard'),\n",
       "   (5, 'irene'),\n",
       "   (6, 'jessica'),\n",
       "   (7, 'raul'),\n",
       "   (8, '... sorry if i missed u')],\n",
       "  19: [('yassin', 0),\n",
       "   ('julio', 1),\n",
       "   ('andres', 2),\n",
       "   ('alex', 3),\n",
       "   ('gerhard', 4),\n",
       "   ('irene', 5),\n",
       "   ('jessica', 6),\n",
       "   ('raul', 7),\n",
       "   ('... sorry if i missed u', 8)],\n",
       "  20: ['alex',\n",
       "   'raul',\n",
       "   'julio',\n",
       "   'irene',\n",
       "   'yassin',\n",
       "   'andres',\n",
       "   'gerhard',\n",
       "   'jessica',\n",
       "   '... sorry if i missed u'],\n",
       "  21: ['__add__',\n",
       "   '__class__',\n",
       "   '__contains__',\n",
       "   '__delattr__',\n",
       "   '__dir__',\n",
       "   '__doc__',\n",
       "   '__eq__',\n",
       "   '__format__',\n",
       "   '__ge__',\n",
       "   '__getattribute__',\n",
       "   '__getitem__',\n",
       "   '__getnewargs__',\n",
       "   '__gt__',\n",
       "   '__hash__',\n",
       "   '__init__',\n",
       "   '__init_subclass__',\n",
       "   '__iter__',\n",
       "   '__le__',\n",
       "   '__len__',\n",
       "   '__lt__',\n",
       "   '__mod__',\n",
       "   '__mul__',\n",
       "   '__ne__',\n",
       "   '__new__',\n",
       "   '__reduce__',\n",
       "   '__reduce_ex__',\n",
       "   '__repr__',\n",
       "   '__rmod__',\n",
       "   '__rmul__',\n",
       "   '__setattr__',\n",
       "   '__sizeof__',\n",
       "   '__str__',\n",
       "   '__subclasshook__',\n",
       "   'capitalize',\n",
       "   'casefold',\n",
       "   'center',\n",
       "   'count',\n",
       "   'encode',\n",
       "   'endswith',\n",
       "   'expandtabs',\n",
       "   'find',\n",
       "   'format',\n",
       "   'format_map',\n",
       "   'index',\n",
       "   'isalnum',\n",
       "   'isalpha',\n",
       "   'isdecimal',\n",
       "   'isdigit',\n",
       "   'isidentifier',\n",
       "   'islower',\n",
       "   'isnumeric',\n",
       "   'isprintable',\n",
       "   'isspace',\n",
       "   'istitle',\n",
       "   'isupper',\n",
       "   'join',\n",
       "   'ljust',\n",
       "   'lower',\n",
       "   'lstrip',\n",
       "   'maketrans',\n",
       "   'partition',\n",
       "   'replace',\n",
       "   'rfind',\n",
       "   'rindex',\n",
       "   'rjust',\n",
       "   'rpartition',\n",
       "   'rsplit',\n",
       "   'rstrip',\n",
       "   'split',\n",
       "   'splitlines',\n",
       "   'startswith',\n",
       "   'strip',\n",
       "   'swapcase',\n",
       "   'title',\n",
       "   'translate',\n",
       "   'upper',\n",
       "   'zfill'],\n",
       "  22: True,\n",
       "  23: \"['yassin', 'julio', 'andres', 'alex', 'gerhard', 'irene', 'jessica', 'raul', '... sorry if i missed u']\",\n",
       "  27: str,\n",
       "  28: type,\n",
       "  29: 'Hello World'},\n",
       " '_dh': ['/home/japizarro/Work/CoP/Python/learning-python-builtins'],\n",
       " 'In': ['',\n",
       "  '## Sample data\\n\\nname = \"CoP-Python\"\\nday = \"24\"\\nparticipants = [\"yassin\", \"julio\", \"andres\", \"alex\", \"gerhard\", \"irene\", \"jessica\", \"raul\", \"... sorry if i missed u\"]',\n",
       "  'print(\"Hello World!\")',\n",
       "  '## Convert string to integer\\n\\nprint(type(day))\\n\\nday_number = int(day)\\n\\nprint(type(day_number))',\n",
       "  '## Remember our input collection\\n\\nparticipants',\n",
       "  'all(participants)',\n",
       "  'all([\"Hey\", \"\"])',\n",
       "  'bool(0)',\n",
       "  'bool(1)',\n",
       "  'bool([])',\n",
       "  'bool([1,2,3,4])',\n",
       "  'bool({})',\n",
       "  'any(participants)',\n",
       "  'any([\"Hey\", \"\"])',\n",
       "  'any([\"\", 0, []])',\n",
       "  'map(str.upper, participants)',\n",
       "  'list(map(str.upper, participants))',\n",
       "  'list(filter(lambda p : p.startswith(\"a\"), participants))',\n",
       "  'list(enumerate(participants))',\n",
       "  'list(zip(participants, range(len(participants))))',\n",
       "  '## Sort a strings list by their length\\n\\nsorted(participants, key=len)',\n",
       "  '# members starting with __ are private\\n\\ndir(\"a\")',\n",
       "  'str.islower(\"hello\") == \"hello\".islower()',\n",
       "  'repr(participants)',\n",
       "  'help(str.upper)',\n",
       "  'help(str)',\n",
       "  'help(\"a\")',\n",
       "  'type(\"a\")',\n",
       "  'type(type(str))',\n",
       "  'my_new_string = type(\"MyNewString\", (str,), {\"hello\": lambda x: \"Hello %s\" % x})\\n\\nfancy_string = my_new_string(\"World\")\\n\\nfancy_string.hello()',\n",
       "  'globals()'],\n",
       " 'Out': {4: ['yassin',\n",
       "   'julio',\n",
       "   'andres',\n",
       "   'alex',\n",
       "   'gerhard',\n",
       "   'irene',\n",
       "   'jessica',\n",
       "   'raul',\n",
       "   '... sorry if i missed u'],\n",
       "  5: True,\n",
       "  6: False,\n",
       "  7: False,\n",
       "  8: True,\n",
       "  9: False,\n",
       "  10: True,\n",
       "  11: False,\n",
       "  12: True,\n",
       "  13: True,\n",
       "  14: False,\n",
       "  15: <map at 0x7f31d6fa5278>,\n",
       "  16: ['YASSIN',\n",
       "   'JULIO',\n",
       "   'ANDRES',\n",
       "   'ALEX',\n",
       "   'GERHARD',\n",
       "   'IRENE',\n",
       "   'JESSICA',\n",
       "   'RAUL',\n",
       "   '... SORRY IF I MISSED U'],\n",
       "  17: ['andres', 'alex'],\n",
       "  18: [(0, 'yassin'),\n",
       "   (1, 'julio'),\n",
       "   (2, 'andres'),\n",
       "   (3, 'alex'),\n",
       "   (4, 'gerhard'),\n",
       "   (5, 'irene'),\n",
       "   (6, 'jessica'),\n",
       "   (7, 'raul'),\n",
       "   (8, '... sorry if i missed u')],\n",
       "  19: [('yassin', 0),\n",
       "   ('julio', 1),\n",
       "   ('andres', 2),\n",
       "   ('alex', 3),\n",
       "   ('gerhard', 4),\n",
       "   ('irene', 5),\n",
       "   ('jessica', 6),\n",
       "   ('raul', 7),\n",
       "   ('... sorry if i missed u', 8)],\n",
       "  20: ['alex',\n",
       "   'raul',\n",
       "   'julio',\n",
       "   'irene',\n",
       "   'yassin',\n",
       "   'andres',\n",
       "   'gerhard',\n",
       "   'jessica',\n",
       "   '... sorry if i missed u'],\n",
       "  21: ['__add__',\n",
       "   '__class__',\n",
       "   '__contains__',\n",
       "   '__delattr__',\n",
       "   '__dir__',\n",
       "   '__doc__',\n",
       "   '__eq__',\n",
       "   '__format__',\n",
       "   '__ge__',\n",
       "   '__getattribute__',\n",
       "   '__getitem__',\n",
       "   '__getnewargs__',\n",
       "   '__gt__',\n",
       "   '__hash__',\n",
       "   '__init__',\n",
       "   '__init_subclass__',\n",
       "   '__iter__',\n",
       "   '__le__',\n",
       "   '__len__',\n",
       "   '__lt__',\n",
       "   '__mod__',\n",
       "   '__mul__',\n",
       "   '__ne__',\n",
       "   '__new__',\n",
       "   '__reduce__',\n",
       "   '__reduce_ex__',\n",
       "   '__repr__',\n",
       "   '__rmod__',\n",
       "   '__rmul__',\n",
       "   '__setattr__',\n",
       "   '__sizeof__',\n",
       "   '__str__',\n",
       "   '__subclasshook__',\n",
       "   'capitalize',\n",
       "   'casefold',\n",
       "   'center',\n",
       "   'count',\n",
       "   'encode',\n",
       "   'endswith',\n",
       "   'expandtabs',\n",
       "   'find',\n",
       "   'format',\n",
       "   'format_map',\n",
       "   'index',\n",
       "   'isalnum',\n",
       "   'isalpha',\n",
       "   'isdecimal',\n",
       "   'isdigit',\n",
       "   'isidentifier',\n",
       "   'islower',\n",
       "   'isnumeric',\n",
       "   'isprintable',\n",
       "   'isspace',\n",
       "   'istitle',\n",
       "   'isupper',\n",
       "   'join',\n",
       "   'ljust',\n",
       "   'lower',\n",
       "   'lstrip',\n",
       "   'maketrans',\n",
       "   'partition',\n",
       "   'replace',\n",
       "   'rfind',\n",
       "   'rindex',\n",
       "   'rjust',\n",
       "   'rpartition',\n",
       "   'rsplit',\n",
       "   'rstrip',\n",
       "   'split',\n",
       "   'splitlines',\n",
       "   'startswith',\n",
       "   'strip',\n",
       "   'swapcase',\n",
       "   'title',\n",
       "   'translate',\n",
       "   'upper',\n",
       "   'zfill'],\n",
       "  22: True,\n",
       "  23: \"['yassin', 'julio', 'andres', 'alex', 'gerhard', 'irene', 'jessica', 'raul', '... sorry if i missed u']\",\n",
       "  27: str,\n",
       "  28: type,\n",
       "  29: 'Hello World'},\n",
       " 'get_ipython': <bound method InteractiveShell.get_ipython of <ipykernel.zmqshell.ZMQInteractiveShell object at 0x7f31e715e9e8>>,\n",
       " 'exit': <IPython.core.autocall.ZMQExitAutocall at 0x7f31e7136dd8>,\n",
       " 'quit': <IPython.core.autocall.ZMQExitAutocall at 0x7f31e7136dd8>,\n",
       " '_': 'Hello World',\n",
       " '__': type,\n",
       " '___': str,\n",
       " '_i': 'my_new_string = type(\"MyNewString\", (str,), {\"hello\": lambda x: \"Hello %s\" % x})\\n\\nfancy_string = my_new_string(\"World\")\\n\\nfancy_string.hello()',\n",
       " '_ii': 'type(type(str))',\n",
       " '_iii': 'type(\"a\")',\n",
       " '_i1': '## Sample data\\n\\nname = \"CoP-Python\"\\nday = \"24\"\\nparticipants = [\"yassin\", \"julio\", \"andres\", \"alex\", \"gerhard\", \"irene\", \"jessica\", \"raul\", \"... sorry if i missed u\"]',\n",
       " 'name': 'CoP-Python',\n",
       " 'day': '24',\n",
       " 'participants': ['yassin',\n",
       "  'julio',\n",
       "  'andres',\n",
       "  'alex',\n",
       "  'gerhard',\n",
       "  'irene',\n",
       "  'jessica',\n",
       "  'raul',\n",
       "  '... sorry if i missed u'],\n",
       " '_i2': 'print(\"Hello World!\")',\n",
       " '_i3': '## Convert string to integer\\n\\nprint(type(day))\\n\\nday_number = int(day)\\n\\nprint(type(day_number))',\n",
       " 'day_number': 24,\n",
       " '_i4': '## Remember our input collection\\n\\nparticipants',\n",
       " '_4': ['yassin',\n",
       "  'julio',\n",
       "  'andres',\n",
       "  'alex',\n",
       "  'gerhard',\n",
       "  'irene',\n",
       "  'jessica',\n",
       "  'raul',\n",
       "  '... sorry if i missed u'],\n",
       " '_i5': 'all(participants)',\n",
       " '_5': True,\n",
       " '_i6': 'all([\"Hey\", \"\"])',\n",
       " '_6': False,\n",
       " '_i7': 'bool(0)',\n",
       " '_7': False,\n",
       " '_i8': 'bool(1)',\n",
       " '_8': True,\n",
       " '_i9': 'bool([])',\n",
       " '_9': False,\n",
       " '_i10': 'bool([1,2,3,4])',\n",
       " '_10': True,\n",
       " '_i11': 'bool({})',\n",
       " '_11': False,\n",
       " '_i12': 'any(participants)',\n",
       " '_12': True,\n",
       " '_i13': 'any([\"Hey\", \"\"])',\n",
       " '_13': True,\n",
       " '_i14': 'any([\"\", 0, []])',\n",
       " '_14': False,\n",
       " '_i15': 'map(str.upper, participants)',\n",
       " '_15': <map at 0x7f31d6fa5278>,\n",
       " '_i16': 'list(map(str.upper, participants))',\n",
       " '_16': ['YASSIN',\n",
       "  'JULIO',\n",
       "  'ANDRES',\n",
       "  'ALEX',\n",
       "  'GERHARD',\n",
       "  'IRENE',\n",
       "  'JESSICA',\n",
       "  'RAUL',\n",
       "  '... SORRY IF I MISSED U'],\n",
       " '_i17': 'list(filter(lambda p : p.startswith(\"a\"), participants))',\n",
       " '_17': ['andres', 'alex'],\n",
       " '_i18': 'list(enumerate(participants))',\n",
       " '_18': [(0, 'yassin'),\n",
       "  (1, 'julio'),\n",
       "  (2, 'andres'),\n",
       "  (3, 'alex'),\n",
       "  (4, 'gerhard'),\n",
       "  (5, 'irene'),\n",
       "  (6, 'jessica'),\n",
       "  (7, 'raul'),\n",
       "  (8, '... sorry if i missed u')],\n",
       " '_i19': 'list(zip(participants, range(len(participants))))',\n",
       " '_19': [('yassin', 0),\n",
       "  ('julio', 1),\n",
       "  ('andres', 2),\n",
       "  ('alex', 3),\n",
       "  ('gerhard', 4),\n",
       "  ('irene', 5),\n",
       "  ('jessica', 6),\n",
       "  ('raul', 7),\n",
       "  ('... sorry if i missed u', 8)],\n",
       " '_i20': '## Sort a strings list by their length\\n\\nsorted(participants, key=len)',\n",
       " '_20': ['alex',\n",
       "  'raul',\n",
       "  'julio',\n",
       "  'irene',\n",
       "  'yassin',\n",
       "  'andres',\n",
       "  'gerhard',\n",
       "  'jessica',\n",
       "  '... sorry if i missed u'],\n",
       " '_i21': '# members starting with __ are private\\n\\ndir(\"a\")',\n",
       " '_21': ['__add__',\n",
       "  '__class__',\n",
       "  '__contains__',\n",
       "  '__delattr__',\n",
       "  '__dir__',\n",
       "  '__doc__',\n",
       "  '__eq__',\n",
       "  '__format__',\n",
       "  '__ge__',\n",
       "  '__getattribute__',\n",
       "  '__getitem__',\n",
       "  '__getnewargs__',\n",
       "  '__gt__',\n",
       "  '__hash__',\n",
       "  '__init__',\n",
       "  '__init_subclass__',\n",
       "  '__iter__',\n",
       "  '__le__',\n",
       "  '__len__',\n",
       "  '__lt__',\n",
       "  '__mod__',\n",
       "  '__mul__',\n",
       "  '__ne__',\n",
       "  '__new__',\n",
       "  '__reduce__',\n",
       "  '__reduce_ex__',\n",
       "  '__repr__',\n",
       "  '__rmod__',\n",
       "  '__rmul__',\n",
       "  '__setattr__',\n",
       "  '__sizeof__',\n",
       "  '__str__',\n",
       "  '__subclasshook__',\n",
       "  'capitalize',\n",
       "  'casefold',\n",
       "  'center',\n",
       "  'count',\n",
       "  'encode',\n",
       "  'endswith',\n",
       "  'expandtabs',\n",
       "  'find',\n",
       "  'format',\n",
       "  'format_map',\n",
       "  'index',\n",
       "  'isalnum',\n",
       "  'isalpha',\n",
       "  'isdecimal',\n",
       "  'isdigit',\n",
       "  'isidentifier',\n",
       "  'islower',\n",
       "  'isnumeric',\n",
       "  'isprintable',\n",
       "  'isspace',\n",
       "  'istitle',\n",
       "  'isupper',\n",
       "  'join',\n",
       "  'ljust',\n",
       "  'lower',\n",
       "  'lstrip',\n",
       "  'maketrans',\n",
       "  'partition',\n",
       "  'replace',\n",
       "  'rfind',\n",
       "  'rindex',\n",
       "  'rjust',\n",
       "  'rpartition',\n",
       "  'rsplit',\n",
       "  'rstrip',\n",
       "  'split',\n",
       "  'splitlines',\n",
       "  'startswith',\n",
       "  'strip',\n",
       "  'swapcase',\n",
       "  'title',\n",
       "  'translate',\n",
       "  'upper',\n",
       "  'zfill'],\n",
       " '_i22': 'str.islower(\"hello\") == \"hello\".islower()',\n",
       " '_22': True,\n",
       " '_i23': 'repr(participants)',\n",
       " '_23': \"['yassin', 'julio', 'andres', 'alex', 'gerhard', 'irene', 'jessica', 'raul', '... sorry if i missed u']\",\n",
       " '_i24': 'help(str.upper)',\n",
       " '_i25': 'help(str)',\n",
       " '_i26': 'help(\"a\")',\n",
       " '_i27': 'type(\"a\")',\n",
       " '_27': str,\n",
       " '_i28': 'type(type(str))',\n",
       " '_28': type,\n",
       " '_i29': 'my_new_string = type(\"MyNewString\", (str,), {\"hello\": lambda x: \"Hello %s\" % x})\\n\\nfancy_string = my_new_string(\"World\")\\n\\nfancy_string.hello()',\n",
       " 'my_new_string': __main__.MyNewString,\n",
       " 'fancy_string': 'World',\n",
       " '_29': 'Hello World',\n",
       " '_i30': 'globals()'}"
      ]
     },
     "execution_count": 30,
     "metadata": {},
     "output_type": "execute_result"
    }
   ],
   "source": [
    "globals()"
   ]
  },
  {
   "cell_type": "code",
   "execution_count": 31,
   "metadata": {
    "slideshow": {
     "slide_type": "subslide"
    }
   },
   "outputs": [
    {
     "data": {
      "text/plain": [
       "{'__name__': '__main__',\n",
       " '__doc__': 'Automatically created module for IPython interactive environment',\n",
       " '__package__': None,\n",
       " '__loader__': None,\n",
       " '__spec__': None,\n",
       " '__builtin__': <module 'builtins' (built-in)>,\n",
       " '__builtins__': <module 'builtins' (built-in)>,\n",
       " '_ih': ['',\n",
       "  '## Sample data\\n\\nname = \"CoP-Python\"\\nday = \"24\"\\nparticipants = [\"yassin\", \"julio\", \"andres\", \"alex\", \"gerhard\", \"irene\", \"jessica\", \"raul\", \"... sorry if i missed u\"]',\n",
       "  'print(\"Hello World!\")',\n",
       "  '## Convert string to integer\\n\\nprint(type(day))\\n\\nday_number = int(day)\\n\\nprint(type(day_number))',\n",
       "  '## Remember our input collection\\n\\nparticipants',\n",
       "  'all(participants)',\n",
       "  'all([\"Hey\", \"\"])',\n",
       "  'bool(0)',\n",
       "  'bool(1)',\n",
       "  'bool([])',\n",
       "  'bool([1,2,3,4])',\n",
       "  'bool({})',\n",
       "  'any(participants)',\n",
       "  'any([\"Hey\", \"\"])',\n",
       "  'any([\"\", 0, []])',\n",
       "  'map(str.upper, participants)',\n",
       "  'list(map(str.upper, participants))',\n",
       "  'list(filter(lambda p : p.startswith(\"a\"), participants))',\n",
       "  'list(enumerate(participants))',\n",
       "  'list(zip(participants, range(len(participants))))',\n",
       "  '## Sort a strings list by their length\\n\\nsorted(participants, key=len)',\n",
       "  '# members starting with __ are private\\n\\ndir(\"a\")',\n",
       "  'str.islower(\"hello\") == \"hello\".islower()',\n",
       "  'repr(participants)',\n",
       "  'help(str.upper)',\n",
       "  'help(str)',\n",
       "  'help(\"a\")',\n",
       "  'type(\"a\")',\n",
       "  'type(type(str))',\n",
       "  'my_new_string = type(\"MyNewString\", (str,), {\"hello\": lambda x: \"Hello %s\" % x})\\n\\nfancy_string = my_new_string(\"World\")\\n\\nfancy_string.hello()',\n",
       "  'globals()',\n",
       "  'locals()'],\n",
       " '_oh': {4: ['yassin',\n",
       "   'julio',\n",
       "   'andres',\n",
       "   'alex',\n",
       "   'gerhard',\n",
       "   'irene',\n",
       "   'jessica',\n",
       "   'raul',\n",
       "   '... sorry if i missed u'],\n",
       "  5: True,\n",
       "  6: False,\n",
       "  7: False,\n",
       "  8: True,\n",
       "  9: False,\n",
       "  10: True,\n",
       "  11: False,\n",
       "  12: True,\n",
       "  13: True,\n",
       "  14: False,\n",
       "  15: <map at 0x7f31d6fa5278>,\n",
       "  16: ['YASSIN',\n",
       "   'JULIO',\n",
       "   'ANDRES',\n",
       "   'ALEX',\n",
       "   'GERHARD',\n",
       "   'IRENE',\n",
       "   'JESSICA',\n",
       "   'RAUL',\n",
       "   '... SORRY IF I MISSED U'],\n",
       "  17: ['andres', 'alex'],\n",
       "  18: [(0, 'yassin'),\n",
       "   (1, 'julio'),\n",
       "   (2, 'andres'),\n",
       "   (3, 'alex'),\n",
       "   (4, 'gerhard'),\n",
       "   (5, 'irene'),\n",
       "   (6, 'jessica'),\n",
       "   (7, 'raul'),\n",
       "   (8, '... sorry if i missed u')],\n",
       "  19: [('yassin', 0),\n",
       "   ('julio', 1),\n",
       "   ('andres', 2),\n",
       "   ('alex', 3),\n",
       "   ('gerhard', 4),\n",
       "   ('irene', 5),\n",
       "   ('jessica', 6),\n",
       "   ('raul', 7),\n",
       "   ('... sorry if i missed u', 8)],\n",
       "  20: ['alex',\n",
       "   'raul',\n",
       "   'julio',\n",
       "   'irene',\n",
       "   'yassin',\n",
       "   'andres',\n",
       "   'gerhard',\n",
       "   'jessica',\n",
       "   '... sorry if i missed u'],\n",
       "  21: ['__add__',\n",
       "   '__class__',\n",
       "   '__contains__',\n",
       "   '__delattr__',\n",
       "   '__dir__',\n",
       "   '__doc__',\n",
       "   '__eq__',\n",
       "   '__format__',\n",
       "   '__ge__',\n",
       "   '__getattribute__',\n",
       "   '__getitem__',\n",
       "   '__getnewargs__',\n",
       "   '__gt__',\n",
       "   '__hash__',\n",
       "   '__init__',\n",
       "   '__init_subclass__',\n",
       "   '__iter__',\n",
       "   '__le__',\n",
       "   '__len__',\n",
       "   '__lt__',\n",
       "   '__mod__',\n",
       "   '__mul__',\n",
       "   '__ne__',\n",
       "   '__new__',\n",
       "   '__reduce__',\n",
       "   '__reduce_ex__',\n",
       "   '__repr__',\n",
       "   '__rmod__',\n",
       "   '__rmul__',\n",
       "   '__setattr__',\n",
       "   '__sizeof__',\n",
       "   '__str__',\n",
       "   '__subclasshook__',\n",
       "   'capitalize',\n",
       "   'casefold',\n",
       "   'center',\n",
       "   'count',\n",
       "   'encode',\n",
       "   'endswith',\n",
       "   'expandtabs',\n",
       "   'find',\n",
       "   'format',\n",
       "   'format_map',\n",
       "   'index',\n",
       "   'isalnum',\n",
       "   'isalpha',\n",
       "   'isdecimal',\n",
       "   'isdigit',\n",
       "   'isidentifier',\n",
       "   'islower',\n",
       "   'isnumeric',\n",
       "   'isprintable',\n",
       "   'isspace',\n",
       "   'istitle',\n",
       "   'isupper',\n",
       "   'join',\n",
       "   'ljust',\n",
       "   'lower',\n",
       "   'lstrip',\n",
       "   'maketrans',\n",
       "   'partition',\n",
       "   'replace',\n",
       "   'rfind',\n",
       "   'rindex',\n",
       "   'rjust',\n",
       "   'rpartition',\n",
       "   'rsplit',\n",
       "   'rstrip',\n",
       "   'split',\n",
       "   'splitlines',\n",
       "   'startswith',\n",
       "   'strip',\n",
       "   'swapcase',\n",
       "   'title',\n",
       "   'translate',\n",
       "   'upper',\n",
       "   'zfill'],\n",
       "  22: True,\n",
       "  23: \"['yassin', 'julio', 'andres', 'alex', 'gerhard', 'irene', 'jessica', 'raul', '... sorry if i missed u']\",\n",
       "  27: str,\n",
       "  28: type,\n",
       "  29: 'Hello World',\n",
       "  30: {...}},\n",
       " '_dh': ['/home/japizarro/Work/CoP/Python/learning-python-builtins'],\n",
       " 'In': ['',\n",
       "  '## Sample data\\n\\nname = \"CoP-Python\"\\nday = \"24\"\\nparticipants = [\"yassin\", \"julio\", \"andres\", \"alex\", \"gerhard\", \"irene\", \"jessica\", \"raul\", \"... sorry if i missed u\"]',\n",
       "  'print(\"Hello World!\")',\n",
       "  '## Convert string to integer\\n\\nprint(type(day))\\n\\nday_number = int(day)\\n\\nprint(type(day_number))',\n",
       "  '## Remember our input collection\\n\\nparticipants',\n",
       "  'all(participants)',\n",
       "  'all([\"Hey\", \"\"])',\n",
       "  'bool(0)',\n",
       "  'bool(1)',\n",
       "  'bool([])',\n",
       "  'bool([1,2,3,4])',\n",
       "  'bool({})',\n",
       "  'any(participants)',\n",
       "  'any([\"Hey\", \"\"])',\n",
       "  'any([\"\", 0, []])',\n",
       "  'map(str.upper, participants)',\n",
       "  'list(map(str.upper, participants))',\n",
       "  'list(filter(lambda p : p.startswith(\"a\"), participants))',\n",
       "  'list(enumerate(participants))',\n",
       "  'list(zip(participants, range(len(participants))))',\n",
       "  '## Sort a strings list by their length\\n\\nsorted(participants, key=len)',\n",
       "  '# members starting with __ are private\\n\\ndir(\"a\")',\n",
       "  'str.islower(\"hello\") == \"hello\".islower()',\n",
       "  'repr(participants)',\n",
       "  'help(str.upper)',\n",
       "  'help(str)',\n",
       "  'help(\"a\")',\n",
       "  'type(\"a\")',\n",
       "  'type(type(str))',\n",
       "  'my_new_string = type(\"MyNewString\", (str,), {\"hello\": lambda x: \"Hello %s\" % x})\\n\\nfancy_string = my_new_string(\"World\")\\n\\nfancy_string.hello()',\n",
       "  'globals()',\n",
       "  'locals()'],\n",
       " 'Out': {4: ['yassin',\n",
       "   'julio',\n",
       "   'andres',\n",
       "   'alex',\n",
       "   'gerhard',\n",
       "   'irene',\n",
       "   'jessica',\n",
       "   'raul',\n",
       "   '... sorry if i missed u'],\n",
       "  5: True,\n",
       "  6: False,\n",
       "  7: False,\n",
       "  8: True,\n",
       "  9: False,\n",
       "  10: True,\n",
       "  11: False,\n",
       "  12: True,\n",
       "  13: True,\n",
       "  14: False,\n",
       "  15: <map at 0x7f31d6fa5278>,\n",
       "  16: ['YASSIN',\n",
       "   'JULIO',\n",
       "   'ANDRES',\n",
       "   'ALEX',\n",
       "   'GERHARD',\n",
       "   'IRENE',\n",
       "   'JESSICA',\n",
       "   'RAUL',\n",
       "   '... SORRY IF I MISSED U'],\n",
       "  17: ['andres', 'alex'],\n",
       "  18: [(0, 'yassin'),\n",
       "   (1, 'julio'),\n",
       "   (2, 'andres'),\n",
       "   (3, 'alex'),\n",
       "   (4, 'gerhard'),\n",
       "   (5, 'irene'),\n",
       "   (6, 'jessica'),\n",
       "   (7, 'raul'),\n",
       "   (8, '... sorry if i missed u')],\n",
       "  19: [('yassin', 0),\n",
       "   ('julio', 1),\n",
       "   ('andres', 2),\n",
       "   ('alex', 3),\n",
       "   ('gerhard', 4),\n",
       "   ('irene', 5),\n",
       "   ('jessica', 6),\n",
       "   ('raul', 7),\n",
       "   ('... sorry if i missed u', 8)],\n",
       "  20: ['alex',\n",
       "   'raul',\n",
       "   'julio',\n",
       "   'irene',\n",
       "   'yassin',\n",
       "   'andres',\n",
       "   'gerhard',\n",
       "   'jessica',\n",
       "   '... sorry if i missed u'],\n",
       "  21: ['__add__',\n",
       "   '__class__',\n",
       "   '__contains__',\n",
       "   '__delattr__',\n",
       "   '__dir__',\n",
       "   '__doc__',\n",
       "   '__eq__',\n",
       "   '__format__',\n",
       "   '__ge__',\n",
       "   '__getattribute__',\n",
       "   '__getitem__',\n",
       "   '__getnewargs__',\n",
       "   '__gt__',\n",
       "   '__hash__',\n",
       "   '__init__',\n",
       "   '__init_subclass__',\n",
       "   '__iter__',\n",
       "   '__le__',\n",
       "   '__len__',\n",
       "   '__lt__',\n",
       "   '__mod__',\n",
       "   '__mul__',\n",
       "   '__ne__',\n",
       "   '__new__',\n",
       "   '__reduce__',\n",
       "   '__reduce_ex__',\n",
       "   '__repr__',\n",
       "   '__rmod__',\n",
       "   '__rmul__',\n",
       "   '__setattr__',\n",
       "   '__sizeof__',\n",
       "   '__str__',\n",
       "   '__subclasshook__',\n",
       "   'capitalize',\n",
       "   'casefold',\n",
       "   'center',\n",
       "   'count',\n",
       "   'encode',\n",
       "   'endswith',\n",
       "   'expandtabs',\n",
       "   'find',\n",
       "   'format',\n",
       "   'format_map',\n",
       "   'index',\n",
       "   'isalnum',\n",
       "   'isalpha',\n",
       "   'isdecimal',\n",
       "   'isdigit',\n",
       "   'isidentifier',\n",
       "   'islower',\n",
       "   'isnumeric',\n",
       "   'isprintable',\n",
       "   'isspace',\n",
       "   'istitle',\n",
       "   'isupper',\n",
       "   'join',\n",
       "   'ljust',\n",
       "   'lower',\n",
       "   'lstrip',\n",
       "   'maketrans',\n",
       "   'partition',\n",
       "   'replace',\n",
       "   'rfind',\n",
       "   'rindex',\n",
       "   'rjust',\n",
       "   'rpartition',\n",
       "   'rsplit',\n",
       "   'rstrip',\n",
       "   'split',\n",
       "   'splitlines',\n",
       "   'startswith',\n",
       "   'strip',\n",
       "   'swapcase',\n",
       "   'title',\n",
       "   'translate',\n",
       "   'upper',\n",
       "   'zfill'],\n",
       "  22: True,\n",
       "  23: \"['yassin', 'julio', 'andres', 'alex', 'gerhard', 'irene', 'jessica', 'raul', '... sorry if i missed u']\",\n",
       "  27: str,\n",
       "  28: type,\n",
       "  29: 'Hello World',\n",
       "  30: {...}},\n",
       " 'get_ipython': <bound method InteractiveShell.get_ipython of <ipykernel.zmqshell.ZMQInteractiveShell object at 0x7f31e715e9e8>>,\n",
       " 'exit': <IPython.core.autocall.ZMQExitAutocall at 0x7f31e7136dd8>,\n",
       " 'quit': <IPython.core.autocall.ZMQExitAutocall at 0x7f31e7136dd8>,\n",
       " '_': {...},\n",
       " '__': 'Hello World',\n",
       " '___': type,\n",
       " '_i': 'globals()',\n",
       " '_ii': 'my_new_string = type(\"MyNewString\", (str,), {\"hello\": lambda x: \"Hello %s\" % x})\\n\\nfancy_string = my_new_string(\"World\")\\n\\nfancy_string.hello()',\n",
       " '_iii': 'type(type(str))',\n",
       " '_i1': '## Sample data\\n\\nname = \"CoP-Python\"\\nday = \"24\"\\nparticipants = [\"yassin\", \"julio\", \"andres\", \"alex\", \"gerhard\", \"irene\", \"jessica\", \"raul\", \"... sorry if i missed u\"]',\n",
       " 'name': 'CoP-Python',\n",
       " 'day': '24',\n",
       " 'participants': ['yassin',\n",
       "  'julio',\n",
       "  'andres',\n",
       "  'alex',\n",
       "  'gerhard',\n",
       "  'irene',\n",
       "  'jessica',\n",
       "  'raul',\n",
       "  '... sorry if i missed u'],\n",
       " '_i2': 'print(\"Hello World!\")',\n",
       " '_i3': '## Convert string to integer\\n\\nprint(type(day))\\n\\nday_number = int(day)\\n\\nprint(type(day_number))',\n",
       " 'day_number': 24,\n",
       " '_i4': '## Remember our input collection\\n\\nparticipants',\n",
       " '_4': ['yassin',\n",
       "  'julio',\n",
       "  'andres',\n",
       "  'alex',\n",
       "  'gerhard',\n",
       "  'irene',\n",
       "  'jessica',\n",
       "  'raul',\n",
       "  '... sorry if i missed u'],\n",
       " '_i5': 'all(participants)',\n",
       " '_5': True,\n",
       " '_i6': 'all([\"Hey\", \"\"])',\n",
       " '_6': False,\n",
       " '_i7': 'bool(0)',\n",
       " '_7': False,\n",
       " '_i8': 'bool(1)',\n",
       " '_8': True,\n",
       " '_i9': 'bool([])',\n",
       " '_9': False,\n",
       " '_i10': 'bool([1,2,3,4])',\n",
       " '_10': True,\n",
       " '_i11': 'bool({})',\n",
       " '_11': False,\n",
       " '_i12': 'any(participants)',\n",
       " '_12': True,\n",
       " '_i13': 'any([\"Hey\", \"\"])',\n",
       " '_13': True,\n",
       " '_i14': 'any([\"\", 0, []])',\n",
       " '_14': False,\n",
       " '_i15': 'map(str.upper, participants)',\n",
       " '_15': <map at 0x7f31d6fa5278>,\n",
       " '_i16': 'list(map(str.upper, participants))',\n",
       " '_16': ['YASSIN',\n",
       "  'JULIO',\n",
       "  'ANDRES',\n",
       "  'ALEX',\n",
       "  'GERHARD',\n",
       "  'IRENE',\n",
       "  'JESSICA',\n",
       "  'RAUL',\n",
       "  '... SORRY IF I MISSED U'],\n",
       " '_i17': 'list(filter(lambda p : p.startswith(\"a\"), participants))',\n",
       " '_17': ['andres', 'alex'],\n",
       " '_i18': 'list(enumerate(participants))',\n",
       " '_18': [(0, 'yassin'),\n",
       "  (1, 'julio'),\n",
       "  (2, 'andres'),\n",
       "  (3, 'alex'),\n",
       "  (4, 'gerhard'),\n",
       "  (5, 'irene'),\n",
       "  (6, 'jessica'),\n",
       "  (7, 'raul'),\n",
       "  (8, '... sorry if i missed u')],\n",
       " '_i19': 'list(zip(participants, range(len(participants))))',\n",
       " '_19': [('yassin', 0),\n",
       "  ('julio', 1),\n",
       "  ('andres', 2),\n",
       "  ('alex', 3),\n",
       "  ('gerhard', 4),\n",
       "  ('irene', 5),\n",
       "  ('jessica', 6),\n",
       "  ('raul', 7),\n",
       "  ('... sorry if i missed u', 8)],\n",
       " '_i20': '## Sort a strings list by their length\\n\\nsorted(participants, key=len)',\n",
       " '_20': ['alex',\n",
       "  'raul',\n",
       "  'julio',\n",
       "  'irene',\n",
       "  'yassin',\n",
       "  'andres',\n",
       "  'gerhard',\n",
       "  'jessica',\n",
       "  '... sorry if i missed u'],\n",
       " '_i21': '# members starting with __ are private\\n\\ndir(\"a\")',\n",
       " '_21': ['__add__',\n",
       "  '__class__',\n",
       "  '__contains__',\n",
       "  '__delattr__',\n",
       "  '__dir__',\n",
       "  '__doc__',\n",
       "  '__eq__',\n",
       "  '__format__',\n",
       "  '__ge__',\n",
       "  '__getattribute__',\n",
       "  '__getitem__',\n",
       "  '__getnewargs__',\n",
       "  '__gt__',\n",
       "  '__hash__',\n",
       "  '__init__',\n",
       "  '__init_subclass__',\n",
       "  '__iter__',\n",
       "  '__le__',\n",
       "  '__len__',\n",
       "  '__lt__',\n",
       "  '__mod__',\n",
       "  '__mul__',\n",
       "  '__ne__',\n",
       "  '__new__',\n",
       "  '__reduce__',\n",
       "  '__reduce_ex__',\n",
       "  '__repr__',\n",
       "  '__rmod__',\n",
       "  '__rmul__',\n",
       "  '__setattr__',\n",
       "  '__sizeof__',\n",
       "  '__str__',\n",
       "  '__subclasshook__',\n",
       "  'capitalize',\n",
       "  'casefold',\n",
       "  'center',\n",
       "  'count',\n",
       "  'encode',\n",
       "  'endswith',\n",
       "  'expandtabs',\n",
       "  'find',\n",
       "  'format',\n",
       "  'format_map',\n",
       "  'index',\n",
       "  'isalnum',\n",
       "  'isalpha',\n",
       "  'isdecimal',\n",
       "  'isdigit',\n",
       "  'isidentifier',\n",
       "  'islower',\n",
       "  'isnumeric',\n",
       "  'isprintable',\n",
       "  'isspace',\n",
       "  'istitle',\n",
       "  'isupper',\n",
       "  'join',\n",
       "  'ljust',\n",
       "  'lower',\n",
       "  'lstrip',\n",
       "  'maketrans',\n",
       "  'partition',\n",
       "  'replace',\n",
       "  'rfind',\n",
       "  'rindex',\n",
       "  'rjust',\n",
       "  'rpartition',\n",
       "  'rsplit',\n",
       "  'rstrip',\n",
       "  'split',\n",
       "  'splitlines',\n",
       "  'startswith',\n",
       "  'strip',\n",
       "  'swapcase',\n",
       "  'title',\n",
       "  'translate',\n",
       "  'upper',\n",
       "  'zfill'],\n",
       " '_i22': 'str.islower(\"hello\") == \"hello\".islower()',\n",
       " '_22': True,\n",
       " '_i23': 'repr(participants)',\n",
       " '_23': \"['yassin', 'julio', 'andres', 'alex', 'gerhard', 'irene', 'jessica', 'raul', '... sorry if i missed u']\",\n",
       " '_i24': 'help(str.upper)',\n",
       " '_i25': 'help(str)',\n",
       " '_i26': 'help(\"a\")',\n",
       " '_i27': 'type(\"a\")',\n",
       " '_27': str,\n",
       " '_i28': 'type(type(str))',\n",
       " '_28': type,\n",
       " '_i29': 'my_new_string = type(\"MyNewString\", (str,), {\"hello\": lambda x: \"Hello %s\" % x})\\n\\nfancy_string = my_new_string(\"World\")\\n\\nfancy_string.hello()',\n",
       " 'my_new_string': __main__.MyNewString,\n",
       " 'fancy_string': 'World',\n",
       " '_29': 'Hello World',\n",
       " '_i30': 'globals()',\n",
       " '_30': {...},\n",
       " '_i31': 'locals()'}"
      ]
     },
     "execution_count": 31,
     "metadata": {},
     "output_type": "execute_result"
    }
   ],
   "source": [
    "locals()"
   ]
  },
  {
   "cell_type": "markdown",
   "metadata": {
    "slideshow": {
     "slide_type": "slide"
    }
   },
   "source": [
    "## Class functions\n",
    "\n",
    "### classmethod\n",
    "\n",
    "Allows defining class methods, with access to the class object itself\n",
    "\n",
    "```python\n",
    "@classmethod\n",
    "def this_is_a_class_method(cls):\n",
    "    return \"Yay!\"\n",
    "```\n",
    "\n",
    "### staticmethod\n",
    "\n",
    "Similarly to class method, static method allows defining class methods, but no access to the class is provided\n",
    "\n",
    "```python\n",
    "@staticmethod\n",
    "def this_is_a_static_method():\n",
    "    return \"Where is my class?\"\n",
    "```\n",
    "\n",
    "### super\n",
    "\n",
    "When extending objects, super function allows invoking the functiom from the parent class! This is like Java, but it is worth taking a read as Python supports multiple inheritance!"
   ]
  },
  {
   "cell_type": "markdown",
   "metadata": {
    "slideshow": {
     "slide_type": "slide"
    }
   },
   "source": [
    "## Dangerous functions!\n",
    "\n",
    "The following functions allows to execute arbitrary Python code from strings/code objects. Take care!"
   ]
  },
  {
   "cell_type": "markdown",
   "metadata": {
    "slideshow": {
     "slide_type": "subslide"
    }
   },
   "source": [
    "### `eval`"
   ]
  },
  {
   "cell_type": "code",
   "execution_count": 32,
   "metadata": {
    "slideshow": {
     "slide_type": "fragment"
    }
   },
   "outputs": [
    {
     "data": {
      "text/plain": [
       "10"
      ]
     },
     "execution_count": 32,
     "metadata": {},
     "output_type": "execute_result"
    }
   ],
   "source": [
    "eval(\"len(participants) + 1\")"
   ]
  },
  {
   "cell_type": "markdown",
   "metadata": {
    "slideshow": {
     "slide_type": "subslide"
    }
   },
   "source": [
    "### `exec`"
   ]
  },
  {
   "cell_type": "code",
   "execution_count": 33,
   "metadata": {
    "slideshow": {
     "slide_type": "fragment"
    }
   },
   "outputs": [
    {
     "name": "stdout",
     "output_type": "stream",
     "text": [
      "It's dangerous!!!!\n"
     ]
    }
   ],
   "source": [
    "exec(open(\"./dangerous_script.py\").read())"
   ]
  },
  {
   "cell_type": "markdown",
   "metadata": {
    "slideshow": {
     "slide_type": "slide"
    }
   },
   "source": [
    "## Questions?"
   ]
  },
  {
   "cell_type": "markdown",
   "metadata": {
    "slideshow": {
     "slide_type": "fragment"
    }
   },
   "source": [
    "## Thank you!"
   ]
  }
 ],
 "metadata": {
  "celltoolbar": "Slideshow",
  "kernelspec": {
   "display_name": "Python 3",
   "language": "python",
   "name": "python3"
  },
  "language_info": {
   "codemirror_mode": {
    "name": "ipython",
    "version": 3
   },
   "file_extension": ".py",
   "mimetype": "text/x-python",
   "name": "python",
   "nbconvert_exporter": "python",
   "pygments_lexer": "ipython3",
   "version": "3.6.8"
  }
 },
 "nbformat": 4,
 "nbformat_minor": 2
}
